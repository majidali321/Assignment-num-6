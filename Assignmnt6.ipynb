{
 "cells": [
  {
   "cell_type": "code",
   "execution_count": 1,
   "id": "ba133c2e-469f-4796-a519-5272cc413168",
   "metadata": {},
   "outputs": [],
   "source": [
    "### 1. Write a Python program to create a class representing a Circle. Include methods to calculate its area and perimeter.\n"
   ]
  },
  {
   "cell_type": "code",
   "execution_count": 2,
   "id": "3d936481-a7af-47c5-9733-dac3ff85c2c7",
   "metadata": {},
   "outputs": [],
   "source": [
    "class Circle():\n",
    "    def __init__(self, radius, pi = 3.14159):\n",
    "        self.radius = radius\n",
    "        self.pi = pi\n",
    "    def area(self):\n",
    "        area = self.pi * (self.radius ** 2)\n",
    "        print(f\"Radius of circle is: {self.radius}.\\nThe area of circle is: {area}. \")\n",
    "\n",
    "    def perimeter(self):\n",
    "        perimeter = 2 * self.pi * self.radius\n",
    "        print(f\"Radius of circle is: {self.radius}.\\nThe perimeter of circle is: {perimeter}. \")"
   ]
  },
  {
   "cell_type": "code",
   "execution_count": 3,
   "id": "5e73bb71-7b5b-4557-8a0d-77384765bc23",
   "metadata": {},
   "outputs": [
    {
     "name": "stdout",
     "output_type": "stream",
     "text": [
      "9\n",
      "Radius of circle is: 9.\n",
      "The area of circle is: 254.46878999999998. \n"
     ]
    }
   ],
   "source": [
    "circle1 = Circle(9)\n",
    "print(circle1.radius)\n",
    "\n",
    "circle1.area()"
   ]
  },
  {
   "cell_type": "code",
   "execution_count": 4,
   "id": "bb4da72d-8ee7-4900-9425-d192f9d7b17c",
   "metadata": {},
   "outputs": [
    {
     "name": "stdout",
     "output_type": "stream",
     "text": [
      "12\n",
      "Radius of circle is: 12.\n",
      "The perimeter of circle is: 75.39815999999999. \n"
     ]
    }
   ],
   "source": [
    "circle1 = Circle(12)\n",
    "print(circle1.radius)\n",
    "\n",
    "circle1.perimeter()"
   ]
  },
  {
   "cell_type": "code",
   "execution_count": 5,
   "id": "73aea2c0-83a0-4236-a388-30b0bb2a5020",
   "metadata": {},
   "outputs": [],
   "source": [
    " # Write a Python program to create a person class. Include attributes like name, country and date of birth. Implement a method to determine the person's age.\n"
   ]
  },
  {
   "cell_type": "code",
   "execution_count": 12,
   "id": "fc678385-136d-40cf-a7c4-8ea3a6b1a616",
   "metadata": {},
   "outputs": [
    {
     "name": "stdout",
     "output_type": "stream",
     "text": [
      "Majid is 29 years old.\n"
     ]
    }
   ],
   "source": [
    "from datetime import datetime\n",
    "\n",
    "def determine_age(name, date_of_birth):\n",
    "    today = datetime.today()\n",
    "    date_of_birth = datetime.strptime(date_of_birth, \"%d-%m-%Y\")\n",
    "    age = today.year - date_of_birth.year - ((today.month, today.day) < (date_of_birth.month, date_of_birth.day))\n",
    "    print(f\"{name} is {age} years old.\")\n",
    "\n",
    "# Usage\n",
    "name = \"Majid\"\n",
    "date_of_birth = \"10-04-1995\"\n",
    "determine_age(name, date_of_birth)\n"
   ]
  },
  {
   "cell_type": "code",
   "execution_count": 9,
   "id": "98e00cbe-3ba5-4bfc-9f50-bfd28500dedf",
   "metadata": {},
   "outputs": [],
   "source": [
    "### 3. Write a Python program to create a calculator class. Include methods for basic arithmetic operations."
   ]
  },
  {
   "cell_type": "code",
   "execution_count": 10,
   "id": "1d1d670c-406c-4679-861c-817af10159ff",
   "metadata": {},
   "outputs": [],
   "source": [
    "class Calculator():\n",
    "    def __init__(self, num1, num2):\n",
    "        self.num1 = num1\n",
    "        self.num2 = num2\n",
    "    def add(self):\n",
    "        add = self.num1 + self.num2\n",
    "        print(f\"{self.num1} + {self.num2} = {add}\")\n",
    "    def subtract(self):\n",
    "        subtract = self.num1 - self.num2\n",
    "        print(f\"{self.num1} - {self.num2} = {subtract}\")\n",
    "    def multiply(self):\n",
    "        multiply = self.num1 * self.num2\n",
    "        print(f\"{self.num1} * {self.num2} = {multiply}\")\n",
    "    def divide(self):\n",
    "        if self.num2 != 0:\n",
    "            divide = self.num1 / self.num2\n",
    "            print(f\"{self.num1} / {self.num2} = {divide}\")\n",
    "        else:\n",
    "            print(\"Error: Division by zero is not allowed.\")"
   ]
  },
  {
   "cell_type": "code",
   "execution_count": 11,
   "id": "c117ed72-8e55-4e64-bbb7-edc912871183",
   "metadata": {},
   "outputs": [
    {
     "name": "stdout",
     "output_type": "stream",
     "text": [
      "8 + 2 = 10\n",
      "8 - 2 = 6\n",
      "8 * 2 = 16\n",
      "8 / 2 = 4.0\n"
     ]
    }
   ],
   "source": [
    "calu = Calculator(8, 2)\n",
    "calu.add()\n",
    "calu.subtract()\n",
    "calu.multiply()\n",
    "calu.divide()"
   ]
  },
  {
   "cell_type": "code",
   "execution_count": null,
   "id": "eedb092b-f15c-412c-a2f4-13a8e0db280d",
   "metadata": {},
   "outputs": [],
   "source": []
  }
 ],
 "metadata": {
  "kernelspec": {
   "display_name": "Python 3 (ipykernel)",
   "language": "python",
   "name": "python3"
  },
  "language_info": {
   "codemirror_mode": {
    "name": "ipython",
    "version": 3
   },
   "file_extension": ".py",
   "mimetype": "text/x-python",
   "name": "python",
   "nbconvert_exporter": "python",
   "pygments_lexer": "ipython3",
   "version": "3.11.7"
  }
 },
 "nbformat": 4,
 "nbformat_minor": 5
}
